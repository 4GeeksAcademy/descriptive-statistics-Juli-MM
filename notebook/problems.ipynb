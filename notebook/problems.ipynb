{
    "cells": [
        {
            "cell_type": "markdown",
            "id": "ac622319",
            "metadata": {},
            "source": [
                "# Descriptive statistics problems"
            ]
        },
        {
            "cell_type": "markdown",
            "id": "aa8993e4",
            "metadata": {},
            "source": [
                "### Exercise 1"
            ]
        },
        {
            "cell_type": "markdown",
            "id": "5e0ab0d5",
            "metadata": {},
            "source": [
                "We will use Numpy to obtain information to describe statistically.\n",
                "\n",
                "- Generate an array of 100 elements following a normal distribution.\n",
                "- Generate an array of 100 elements following a chi-square distribution with 3 degrees of freedom.\n",
                "- Calculate the main metrics and statistical measures that best describe the two vectors."
            ]
        },
        {
            "cell_type": "code",
            "execution_count": 10,
            "id": "34720ab6",
            "metadata": {},
            "outputs": [
                {
                    "name": "stdout",
                    "output_type": "stream",
                    "text": [
                        "[-0.76939961  1.19788634 -0.33078145 -0.88809806 -1.15918428  0.29308173\n",
                        " -0.55177164 -0.26961245 -0.12882979  0.13858268  0.11602435  0.61704187\n",
                        "  0.23934793  0.01750716 -0.03168968 -0.0942273  -0.10694531  2.20439951\n",
                        " -1.32066    -0.01484258  0.30653604  0.63368322 -0.64072659  0.28223392\n",
                        " -0.35491294  2.02370353 -0.09188662 -1.60424028  1.50436771 -0.21044709\n",
                        " -0.11999776  2.45482767  0.70297691 -0.54438426  0.17530615 -0.36682401\n",
                        " -1.79339431 -0.77208215 -2.69316943  0.2350651  -1.56432365  0.84724019\n",
                        " -1.30090945  1.62107776 -1.64085447 -0.01427399  1.1155699   0.44956367\n",
                        " -3.24137551 -0.26242122  0.44394781  0.08566627  0.21312478 -1.70966699\n",
                        "  0.29299517  0.48234303 -0.15538539 -1.9485376  -1.40056098 -0.83756102\n",
                        " -0.59061063  0.54518128  0.2350817  -1.11510037 -0.19663897  0.28948024\n",
                        " -3.45827673  0.25887147 -0.08239896 -1.10442008  0.01865675 -0.73474588\n",
                        " -0.9152931   0.79312082 -1.77974307 -1.24419966 -0.71438548 -1.22724994\n",
                        "  1.61751081 -0.8617508  -1.96455844  0.0362151   1.38631979 -0.43980704\n",
                        " -0.92883094  0.62548767 -0.45886293  0.41517519 -0.11298114  0.92652099\n",
                        " -0.36979025  0.7443215   0.6210677   3.38840995 -0.46736706 -1.19777464\n",
                        "  0.37536092 -0.43702192  0.16452655 -0.76198143]\n",
                        "[13.34429565  3.00773567  4.14631841  4.69665301  6.92277994  9.40562068\n",
                        "  4.21351278  1.88392915  2.9838473   1.24575375  4.41565316  4.50449064\n",
                        "  0.45398093  4.45386986  0.78391329  7.03271341  0.48211297  2.9946412\n",
                        "  2.51565602 10.76265241  5.36210661  1.05524313  4.4287702   1.66859336\n",
                        "  2.62382829  1.53877763  3.92332116  3.7022366   1.63565623  2.94632658\n",
                        "  4.11046347  5.53176815  2.10854303  3.18172036 11.44863382  2.42649242\n",
                        "  0.79910239  4.39184712  4.03760279  4.97698788  5.78942611  2.06340651\n",
                        "  0.72034382  3.11976312  4.03822703  2.21513865  2.11270874  2.98464385\n",
                        "  5.45169159  3.12307597  3.70398733  5.54791791  2.57139447  1.82624585\n",
                        "  3.26176412  4.92290722  2.44008506  0.40892619 12.42949014  3.89609078\n",
                        "  6.70066708  2.22332369  4.96641613  4.83227246  1.71609276  1.30274581\n",
                        "  5.20607289 12.69514999  0.31835564  3.58721977  0.70633357  3.92428893\n",
                        "  1.00953306  1.14795044  3.04697688  2.46673867  2.96145983  3.32110999\n",
                        "  0.70045253  7.76655324  2.77562609  0.52807616  4.78373262  1.5014451\n",
                        "  0.69390329  0.88596957  0.8643316   1.74024982  1.6968299   7.64054301\n",
                        "  1.95662616  9.19684669 10.9389292   1.78417017  4.2966353   0.57375936\n",
                        "  0.33205799  3.80979823  1.19086506  0.70480115]\n"
                    ]
                }
            ],
            "source": [
                "import numpy as np\n",
                "import statistics as stats\n",
                "\n",
                "#Normal distribution:\n",
                "\n",
                "array_1=np.random.normal(size=100)\n",
                "print(array_1)\n",
                "\n",
                "#Chi-square distribution:\n",
                "\n",
                "array_2=np.random.chisquare(3,100)\n",
                "print(array_2)\n"
            ]
        },
        {
            "cell_type": "code",
            "execution_count": 8,
            "id": "ef465005",
            "metadata": {},
            "outputs": [
                {
                    "name": "stdout",
                    "output_type": "stream",
                    "text": [
                        "Normal distribution mean -0.02\n",
                        "Normal distribution median 0.02\n",
                        "Normal distribution mode -0.38\n",
                        "Normal distribution range 5.76\n",
                        "Normal distribution variance 0.96\n",
                        "Normal distribution std deviation 0.9817572622701786\n",
                        "Normal distribution skewness 0.14\n",
                        "Normal distribution kurtosis 0.56\n"
                    ]
                }
            ],
            "source": [
                "import numpy as np\n",
                "import statistics as stats\n",
                "\n",
                "#Main metrics & statistical mesuares for normal distribution:\n",
                "\n",
                "mean_array_1=stats.mean(array_1).round(2)\n",
                "print(\"Normal distribution mean\", mean_array_1)\n",
                "\n",
                "median_array_1=stats.median(array_1).round(2)\n",
                "print(\"Normal distribution median\", median_array_1)\n",
                "\n",
                "mode_array_1=stats.mode(array_1).round(2)\n",
                "print(\"Normal distribution mode\", mode_array_1)\n",
                "\n",
                "range_array_1=max(array_1)-min(array_1)\n",
                "print(\"Normal distribution range\", range_array_1.round(2))\n",
                "\n",
                "variance_array_1=stats.variance(array_1).round(2)\n",
                "print(\"Normal distribution variance\", variance_array_1)\n",
                "\n",
                "std_dev_array_1=stats.stdev(array_1)\n",
                "print(\"Normal distribution std deviation\", std_dev_array_1)\n",
                "\n",
                "from scipy.stats import skew\n",
                "skewness_array_1=skew(array_1).round(2)\n",
                "print(\"Normal distribution skewness\", skewness_array_1)\n",
                "\n",
                "from scipy.stats import kurtosis\n",
                "kurtosis_array_1=kurtosis(array_1).round(2)\n",
                "print(\"Normal distribution kurtosis\", kurtosis_array_1)"
            ]
        },
        {
            "cell_type": "code",
            "execution_count": 9,
            "id": "86e71ac4",
            "metadata": {},
            "outputs": [
                {
                    "name": "stdout",
                    "output_type": "stream",
                    "text": [
                        "Chi-square distribution mean 3.32\n",
                        "Chi-square distribution median 2.85\n",
                        "Chi-square distribution mode 4.19\n",
                        "Chi-square distribution range 12.22\n",
                        "Chi-square distribution variance 6.45\n",
                        "Chi-square distribution std deviation 2.539571145748718\n",
                        "Chi-square distribution skewness 1.27\n",
                        "Chi-square distribution kurtosis 1.82\n"
                    ]
                }
            ],
            "source": [
                "import numpy as np\n",
                "import statistics as stats\n",
                "\n",
                "#Main metrics & statistical mesuares for chi-square distribution:\n",
                "mean_array_2=stats.mean(array_2).round(2)\n",
                "print(\"Chi-square distribution mean\", mean_array_2)\n",
                "\n",
                "median_array_2=stats.median(array_2).round(2)\n",
                "print(\"Chi-square distribution median\", median_array_2)\n",
                "\n",
                "mode_array_2=stats.mode(array_2).round(2)\n",
                "print(\"Chi-square distribution mode\", mode_array_2)\n",
                "\n",
                "range_array_2=max(array_2)-min(array_2)\n",
                "print(\"Chi-square distribution range\", range_array_2.round(2))\n",
                "\n",
                "variance_array_2=stats.variance(array_2).round(2)\n",
                "print(\"Chi-square distribution variance\", variance_array_2)\n",
                "\n",
                "std_dev_array_2=stats.stdev(array_2)\n",
                "print(\"Chi-square distribution std deviation\", std_dev_array_2)\n",
                "\n",
                "from scipy.stats import skew\n",
                "skewness_array_2=skew(array_2).round(2)\n",
                "print(\"Chi-square distribution skewness\", skewness_array_2)\n",
                "\n",
                "from scipy.stats import kurtosis\n",
                "kurtosis_array_2=kurtosis(array_2).round(2)\n",
                "print(\"Chi-square distribution kurtosis\", kurtosis_array_2)"
            ]
        },
        {
            "cell_type": "markdown",
            "id": "46c70c3d",
            "metadata": {},
            "source": [
                "### Exercise 2\n",
                "\n",
                "Write a Python program to calculate the standard deviation of the following data:\n",
                "\n",
                "```py\n",
                "data = [4, 2, 5, 8, 6]\n",
                "```"
            ]
        },
        {
            "cell_type": "code",
            "execution_count": 18,
            "id": "d590308e",
            "metadata": {},
            "outputs": [
                {
                    "name": "stdout",
                    "output_type": "stream",
                    "text": [
                        "La desviación estandar es: 2.23606797749979\n",
                        "La desviación estandar es: 2.23606797749979\n"
                    ]
                }
            ],
            "source": [
                "data=[4,2,5,8,6]\n",
                "\n",
                "#Utilizando biblioteca Statistics:\n",
                "\n",
                "import statistics as stats\n",
                "import math\n",
                "\n",
                "std_dev=stats.stdev(data)\n",
                "print(\"La desviación estandar es:\", std_dev) #--> La que vale es la desvición estandar calculada por Statistics.\n",
                "\n",
                "#Utilizando la formula de la desviación estandar:\n",
                "\n",
                "#Calculo de la media:\n",
                "\n",
                "media_data=stats.mean(data)\n",
                "\n",
                "#Calculo de la desviación:\n",
                "\n",
                "def standard(data):\n",
                "    n = len(data)\n",
                "    if n < 2 :\n",
                "        return None\n",
                "    media_data = stats.mean(data)\n",
                "    variance = sum((i - media_data)**2 for i in data)/(n-1)\n",
                "    std_deviation = math.sqrt(variance)\n",
                "    return std_deviation\n",
                "standard(data)\n",
                "print(\"La desviación estandar es:\", standard(data))\n",
                "\n"
            ]
        }
    ],
    "metadata": {
        "interpreter": {
            "hash": "9248718ffe6ce6938b217e69dbcc175ea21f4c6b28a317e96c05334edae734bb"
        },
        "kernelspec": {
            "display_name": "Python 3.9.12 ('ML-BOOTCAMP')",
            "language": "python",
            "name": "python3"
        },
        "language_info": {
            "codemirror_mode": {
                "name": "ipython",
                "version": 3
            },
            "file_extension": ".py",
            "mimetype": "text/x-python",
            "name": "python",
            "nbconvert_exporter": "python",
            "pygments_lexer": "ipython3",
            "version": "3.11.4"
        }
    },
    "nbformat": 4,
    "nbformat_minor": 5
}
